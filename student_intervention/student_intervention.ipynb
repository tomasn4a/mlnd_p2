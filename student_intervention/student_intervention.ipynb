{
 "cells": [
  {
   "cell_type": "markdown",
   "metadata": {},
   "source": [
    "# Project 2: Supervised Learning\n",
    "### Building a Student Intervention System"
   ]
  },
  {
   "cell_type": "markdown",
   "metadata": {},
   "source": [
    "## 1. Classification vs Regression\n",
    "\n",
    "Your goal is to identify students who might need early intervention - which type of supervised machine learning problem is this, classification or regression? Why?"
   ]
  },
  {
   "cell_type": "markdown",
   "metadata": {},
   "source": [
    "**Answer**: This type of machine learning problem is a **classification** since the output we are looking for is a class: in this case, a binary variable \"yes\" or \"no\"."
   ]
  },
  {
   "cell_type": "markdown",
   "metadata": {},
   "source": [
    "## 2. Exploring the Data\n",
    "\n",
    "Let's go ahead and read in the student dataset first.\n",
    "\n",
    "_To execute a code cell, click inside it and press **Shift+Enter**._"
   ]
  },
  {
   "cell_type": "code",
   "execution_count": 1,
   "metadata": {
    "collapsed": false
   },
   "outputs": [],
   "source": [
    "# Import libraries\n",
    "import numpy as np\n",
    "import pandas as pd"
   ]
  },
  {
   "cell_type": "code",
   "execution_count": 2,
   "metadata": {
    "collapsed": false
   },
   "outputs": [
    {
     "name": "stdout",
     "output_type": "stream",
     "text": [
      "Student data read successfully!\n"
     ]
    }
   ],
   "source": [
    "# Read student data\n",
    "student_data = pd.read_csv(\"student-data.csv\")\n",
    "print \"Student data read successfully!\"\n",
    "# Note: The last column 'passed' is the target/label, all other are feature columns"
   ]
  },
  {
   "cell_type": "markdown",
   "metadata": {},
   "source": [
    "Now, can you find out the following facts about the dataset?\n",
    "- Total number of students\n",
    "- Number of students who passed\n",
    "- Number of students who failed\n",
    "- Graduation rate of the class (%)\n",
    "- Number of features\n",
    "\n",
    "_Use the code block below to compute these values. Instructions/steps are marked using **TODO**s._"
   ]
  },
  {
   "cell_type": "code",
   "execution_count": 3,
   "metadata": {
    "collapsed": false
   },
   "outputs": [
    {
     "name": "stdout",
     "output_type": "stream",
     "text": [
      "Total number of students: 395\n",
      "Number of students who passed: 265\n",
      "Number of students who failed: 130\n",
      "Number of features: 30\n",
      "Graduation rate of the class: 67.09%\n"
     ]
    }
   ],
   "source": [
    "# TODO: Compute desired values - replace each '?' with an appropriate expression/function call\n",
    "n_students = student_data.shape[0]\n",
    "n_features = student_data.shape[1]-1 # Since one of the columns contains the labels\n",
    "n_passed = student_data[student_data[\"passed\"]==\"yes\"].shape[0]\n",
    "n_failed = student_data[student_data[\"passed\"]==\"no\"].shape[0]\n",
    "grad_rate = 100.*n_passed / n_students\n",
    "print \"Total number of students: {}\".format(n_students)\n",
    "print \"Number of students who passed: {}\".format(n_passed)\n",
    "print \"Number of students who failed: {}\".format(n_failed)\n",
    "print \"Number of features: {}\".format(n_features)\n",
    "print \"Graduation rate of the class: {:.2f}%\".format(grad_rate)"
   ]
  },
  {
   "cell_type": "markdown",
   "metadata": {},
   "source": [
    "## 3. Preparing the Data\n",
    "In this section, we will prepare the data for modeling, training and testing.\n",
    "\n",
    "### Identify feature and target columns\n",
    "It is often the case that the data you obtain contains non-numeric features. This can be a problem, as most machine learning algorithms expect numeric data to perform computations with.\n",
    "\n",
    "Let's first separate our data into feature and target columns, and see if any features are non-numeric.<br/>\n",
    "**Note**: For this dataset, the last column (`'passed'`) is the target or label we are trying to predict."
   ]
  },
  {
   "cell_type": "code",
   "execution_count": 4,
   "metadata": {
    "collapsed": false
   },
   "outputs": [
    {
     "name": "stdout",
     "output_type": "stream",
     "text": [
      "Feature column(s):-\n",
      "['school', 'sex', 'age', 'address', 'famsize', 'Pstatus', 'Medu', 'Fedu', 'Mjob', 'Fjob', 'reason', 'guardian', 'traveltime', 'studytime', 'failures', 'schoolsup', 'famsup', 'paid', 'activities', 'nursery', 'higher', 'internet', 'romantic', 'famrel', 'freetime', 'goout', 'Dalc', 'Walc', 'health', 'absences']\n",
      "Target column: passed\n",
      "\n",
      "Feature values:-\n",
      "  school sex  age address famsize Pstatus  Medu  Fedu     Mjob      Fjob  \\\n",
      "0     GP   F   18       U     GT3       A     4     4  at_home   teacher   \n",
      "1     GP   F   17       U     GT3       T     1     1  at_home     other   \n",
      "2     GP   F   15       U     LE3       T     1     1  at_home     other   \n",
      "3     GP   F   15       U     GT3       T     4     2   health  services   \n",
      "4     GP   F   16       U     GT3       T     3     3    other     other   \n",
      "\n",
      "    ...    higher internet  romantic  famrel  freetime goout Dalc Walc health  \\\n",
      "0   ...       yes       no        no       4         3     4    1    1      3   \n",
      "1   ...       yes      yes        no       5         3     3    1    1      3   \n",
      "2   ...       yes      yes        no       4         3     2    2    3      3   \n",
      "3   ...       yes      yes       yes       3         2     2    1    1      5   \n",
      "4   ...       yes       no        no       4         3     2    1    2      5   \n",
      "\n",
      "  absences  \n",
      "0        6  \n",
      "1        4  \n",
      "2       10  \n",
      "3        2  \n",
      "4        4  \n",
      "\n",
      "[5 rows x 30 columns]\n"
     ]
    }
   ],
   "source": [
    "# Extract feature (X) and target (y) columns\n",
    "feature_cols = list(student_data.columns[:-1])  # all columns but last are features\n",
    "target_col = student_data.columns[-1]  # last column is the target/label\n",
    "print \"Feature column(s):-\\n{}\".format(feature_cols)\n",
    "print \"Target column: {}\".format(target_col)\n",
    "\n",
    "X_all = student_data[feature_cols]  # feature values for all students\n",
    "y_all = student_data[target_col]  # corresponding targets/labels\n",
    "print \"\\nFeature values:-\"\n",
    "print X_all.head()  # print the first 5 rows"
   ]
  },
  {
   "cell_type": "markdown",
   "metadata": {},
   "source": [
    "### Preprocess feature columns\n",
    "\n",
    "As you can see, there are several non-numeric columns that need to be converted! Many of them are simply `yes`/`no`, e.g. `internet`. These can be reasonably converted into `1`/`0` (binary) values.\n",
    "\n",
    "Other columns, like `Mjob` and `Fjob`, have more than two values, and are known as _categorical variables_. The recommended way to handle such a column is to create as many columns as possible values (e.g. `Fjob_teacher`, `Fjob_other`, `Fjob_services`, etc.), and assign a `1` to one of them and `0` to all others.\n",
    "\n",
    "These generated columns are sometimes called _dummy variables_, and we will use the [`pandas.get_dummies()`](http://pandas.pydata.org/pandas-docs/stable/generated/pandas.get_dummies.html?highlight=get_dummies#pandas.get_dummies) function to perform this transformation."
   ]
  },
  {
   "cell_type": "code",
   "execution_count": 5,
   "metadata": {
    "collapsed": false
   },
   "outputs": [
    {
     "name": "stdout",
     "output_type": "stream",
     "text": [
      "Processed feature columns (44):-\n",
      "['school', 'sex_F', 'sex_M', 'age', 'address', 'famsize', 'Pstatus', 'Medu', 'Fedu', 'Mjob_at_home', 'Mjob_health', 'Mjob_other', 'Mjob_services', 'Mjob_teacher', 'Fjob_at_home', 'Fjob_health', 'Fjob_other', 'Fjob_services', 'Fjob_teacher', 'reason_course', 'reason_home', 'reason_other', 'reason_reputation', 'guardian_father', 'guardian_mother', 'guardian_other', 'traveltime', 'studytime', 'failures', 'schoolsup', 'famsup', 'paid', 'activities', 'nursery', 'higher', 'internet', 'romantic', 'famrel', 'freetime', 'goout', 'Dalc', 'Walc', 'health', 'absences']\n"
     ]
    }
   ],
   "source": [
    "# Preprocess feature columns\n",
    "def preprocess_features(X):\n",
    "    outX = pd.DataFrame(index=X.index)  # output dataframe, initially empty\n",
    "\n",
    "    # Check each column\n",
    "    for col, col_data in X.iteritems():\n",
    "        # If data type is non-numeric, try to replace all yes/no values with 1/0\n",
    "        if col_data.dtype == object:\n",
    "            col_data = col_data.replace(['yes', 'no'], [1, 0])\n",
    "        # Note: This should change the data type for yes/no columns to int\n",
    "\n",
    "        # There are a few other binary variables that are not represented by \"yes\", \"no\"\n",
    "        # For this particular dataset, with a relatively small number of features, it is easy\n",
    "        # to spot them manually:\n",
    "        if col_data.dtype == object:\n",
    "            col_data = col_data.replace(['GP', 'MS','U','R','LE3','GT3','T','A'], [0,1,0,1,0,1,0,1])\n",
    "\n",
    "        # If still non-numeric, convert to one or more dummy variables\n",
    "        if col_data.dtype == object:\n",
    "            col_data = pd.get_dummies(col_data, prefix=col)  # e.g. 'school' => 'school_GP', 'school_MS'\n",
    "\n",
    "        outX = outX.join(col_data)  # collect column(s) in output dataframe\n",
    "\n",
    "    return outX\n",
    "\n",
    "X_all = preprocess_features(X_all)\n",
    "print \"Processed feature columns ({}):-\\n{}\".format(len(X_all.columns), list(X_all.columns))"
   ]
  },
  {
   "cell_type": "markdown",
   "metadata": {},
   "source": [
    "### Split data into training and test sets\n",
    "\n",
    "So far, we have converted all _categorical_ features into numeric values. In this next step, we split the data (both features and corresponding labels) into training and test sets."
   ]
  },
  {
   "cell_type": "code",
   "execution_count": 6,
   "metadata": {
    "collapsed": false
   },
   "outputs": [
    {
     "name": "stdout",
     "output_type": "stream",
     "text": [
      "Training set: 300 samples\n",
      "Test set: 95 samples\n"
     ]
    }
   ],
   "source": [
    "# First, decide how many training vs test samples you want\n",
    "num_all = student_data.shape[0]  # same as len(student_data)\n",
    "num_train = 300  # about 75% of the data\n",
    "num_test = num_all - num_train\n",
    "\n",
    "# TODO: Then, select features (X) and corresponding labels (y) for the training and test sets\n",
    "# Note: Shuffle the data or randomly select samples to avoid any bias due to ordering in the dataset\n",
    "from sklearn import cross_validation\n",
    "\n",
    "X_train, X_test, y_train, y_test = cross_validation.train_test_split(X_all, y_all, \n",
    "                                                                     train_size=num_train, random_state=13)\n",
    "print \"Training set: {} samples\".format(X_train.shape[0])\n",
    "print \"Test set: {} samples\".format(X_test.shape[0])\n",
    "# Note: If you need a validation set, extract it from within training data"
   ]
  },
  {
   "cell_type": "markdown",
   "metadata": {},
   "source": [
    "## 4. Training and Evaluating Models\n",
    "Choose 3 supervised learning models that are available in scikit-learn, and appropriate for this problem. For each model:\n",
    "\n",
    "- What are the general applications of this model? What are its strengths and weaknesses?\n",
    "- Given what you know about the data so far, why did you choose this model to apply?\n",
    "- Fit this model to the training data, try to predict labels (for both training and test sets), and measure the F<sub>1</sub> score. Repeat this process with different training set sizes (100, 200, 300), keeping test set constant.\n",
    "\n",
    "Produce a table showing training time, prediction time, F<sub>1</sub> score on training set and F<sub>1</sub> score on test set, for each training set size.\n",
    "\n",
    "Note: You need to produce 3 such tables - one for each model."
   ]
  },
  {
   "cell_type": "markdown",
   "metadata": {},
   "source": [
    "### Model 1: Support Vector Classification (SVC). \n",
    "\n",
    "**Pros**: SVC offers great flexibility since we can use an infinite set of kernel functions. In addition, SVM methods are very memory efficient since, once trained, they only look at a few support vectors, and predictions are very quick. \n",
    "\n",
    "**Cons**: However one of its strengths is also one of its weaknesses: the choice of kernel functions being so vast it may be hard to come up with the good one. Sometimes domain knowledge can help us make an informed decission. But other times we may be limited to simply blindly try the standard kernel functions and choose the better performing. Another one of its disadvantages is its long training time. A brute force approach to finding the support vectors calculates the kernel function for every pair of points which can be time expensive.\n",
    "\n",
    "**Why?**: We have a relatively modest dataset in terms of number of observation so we shouldn't turn away from SVC because of training cost. We have also split our factor variables into multiple dimensions and SVM tends to do well in these situations. Given the relative high number of features and the relatively small number of observations, SVC should be able to learn well from our data."
   ]
  },
  {
   "cell_type": "code",
   "execution_count": 7,
   "metadata": {
    "collapsed": false
   },
   "outputs": [
    {
     "name": "stdout",
     "output_type": "stream",
     "text": [
      "Training SVC...\n",
      "Done!\n",
      "Training time (secs): 0.009\n",
      "SVC(C=1.0, cache_size=200, class_weight=None, coef0=0.0,\n",
      "  decision_function_shape=None, degree=3, gamma='auto', kernel='rbf',\n",
      "  max_iter=-1, probability=False, random_state=None, shrinking=True,\n",
      "  tol=0.001, verbose=False)\n"
     ]
    }
   ],
   "source": [
    "# Train a model\n",
    "import time\n",
    "\n",
    "def train_classifier(clf, X_train, y_train):\n",
    "    print \"Training {}...\".format(clf.__class__.__name__)\n",
    "    start = time.time()\n",
    "    clf.fit(X_train, y_train)\n",
    "    end = time.time()\n",
    "    print \"Done!\\nTraining time (secs): {:.3f}\".format(end - start)\n",
    "\n",
    "# TODO: Choose a model, import it and instantiate an object\n",
    "from sklearn import svm\n",
    "clf1 = svm.SVC()\n",
    "\n",
    "# Fit model to training data\n",
    "train_classifier(clf1, X_train, y_train)  # note: using entire training set here\n",
    "print clf1  # you can inspect the learned model by printing it\n"
   ]
  },
  {
   "cell_type": "code",
   "execution_count": 8,
   "metadata": {
    "collapsed": false
   },
   "outputs": [
    {
     "name": "stdout",
     "output_type": "stream",
     "text": [
      "Predicting labels using SVC...\n",
      "Done!\n",
      "Prediction time (secs): 0.008\n",
      "F1 score for training set: 0.887417218543\n"
     ]
    }
   ],
   "source": [
    "# Predict on training set and compute F1 score\n",
    "from sklearn.metrics import f1_score\n",
    "\n",
    "def predict_labels(clf, features, target):\n",
    "    print \"Predicting labels using {}...\".format(clf.__class__.__name__)\n",
    "    start = time.time()\n",
    "    y_pred = clf.predict(features)\n",
    "    end = time.time()\n",
    "    print \"Done!\\nPrediction time (secs): {:.3f}\".format(end - start)\n",
    "    return f1_score(target.values, y_pred, pos_label='yes')\n",
    "\n",
    "train_f1_score = predict_labels(clf1, X_train, y_train)\n",
    "print \"F1 score for training set: {}\".format(train_f1_score)"
   ]
  },
  {
   "cell_type": "code",
   "execution_count": 9,
   "metadata": {
    "collapsed": false
   },
   "outputs": [
    {
     "name": "stdout",
     "output_type": "stream",
     "text": [
      "Predicting labels using SVC...\n",
      "Done!\n",
      "Prediction time (secs): 0.005\n",
      "F1 score for test set: 0.791946308725\n"
     ]
    }
   ],
   "source": [
    "# Predict on test data\n",
    "print \"F1 score for test set: {}\".format(predict_labels(clf1, X_test, y_test))"
   ]
  },
  {
   "cell_type": "code",
   "execution_count": 10,
   "metadata": {
    "collapsed": false
   },
   "outputs": [
    {
     "name": "stdout",
     "output_type": "stream",
     "text": [
      "------------------------------------------\n",
      "Training set size: 100\n",
      "Training SVC...\n",
      "Done!\n",
      "Training time (secs): 0.008\n",
      "Predicting labels using SVC...\n",
      "Done!\n",
      "Prediction time (secs): 0.001\n",
      "F1 score for training set: 0.909090909091\n",
      "Predicting labels using SVC...\n",
      "Done!\n",
      "Prediction time (secs): 0.001\n",
      "F1 score for test set: 0.787096774194\n",
      "------------------------------------------\n",
      "Training set size: 200\n",
      "Training SVC...\n",
      "Done!\n",
      "Training time (secs): 0.013\n",
      "Predicting labels using SVC...\n",
      "Done!\n",
      "Prediction time (secs): 0.007\n",
      "F1 score for training set: 0.895833333333\n",
      "Predicting labels using SVC...\n",
      "Done!\n",
      "Prediction time (secs): 0.003\n",
      "F1 score for test set: 0.772413793103\n",
      "------------------------------------------\n",
      "Training set size: 300\n",
      "Training SVC...\n",
      "Done!\n",
      "Training time (secs): 0.011\n",
      "Predicting labels using SVC...\n",
      "Done!\n",
      "Prediction time (secs): 0.006\n",
      "F1 score for training set: 0.872807017544\n",
      "Predicting labels using SVC...\n",
      "Done!\n",
      "Prediction time (secs): 0.002\n",
      "F1 score for test set: 0.786666666667\n"
     ]
    }
   ],
   "source": [
    "# Train and predict using different training set sizes\n",
    "def train_predict(clf, X_all, y_all, train_sizes, test_size):\n",
    "    for i in train_sizes:\n",
    "        X_train, X_test, y_train, y_test = cross_validation.train_test_split(X_all, y_all, train_size= i, \n",
    "                                                                             test_size=test_size, random_state=66)\n",
    "        print \"------------------------------------------\"\n",
    "        print \"Training set size: {}\".format(len(X_train))\n",
    "        train_classifier(clf, X_train, y_train)\n",
    "        print \"F1 score for training set: {}\".format(predict_labels(clf, X_train, y_train))\n",
    "        print \"F1 score for test set: {}\".format(predict_labels(clf, X_test, y_test))\n",
    "\n",
    "# TODO: Run the helper function above for desired subsets of training data\n",
    "# Note: Keep the test set constant\n",
    "train_size = [100, 200, 300]\n",
    "test_size = 95\n",
    "\n",
    "train_predict(clf1, X_all, y_all, train_size, test_size)"
   ]
  },
  {
   "cell_type": "markdown",
   "metadata": {},
   "source": [
    "### Model 2: Gaussian Naive Bayes\n",
    "\n",
    "**Pros**: Gaussian Naive Bayes (GNB) is a simple and robust model that relies on Bayes' conditional probability rules and assumes conditional independance between the different variables. As such it is a simple model and a very quick learner. Even with the massive assumption of conditional independance, this model has been shown to work quite well in a variety of scenarios.\n",
    "\n",
    "**Cons**: As with the previous model, one of its strengths is also one of its weaknesses. The assumption of conditional independence may not be correct for the problem at hand and by ignoring any possible relation between variables it may be hard to capture the nature of our data. In addition, the model offers no parameters to tweak, making it at the same time very straight-forward to use but with little flexibility.\n",
    "\n",
    "**Why?**: Given my limited knowledge of the subject under study, I am in no position to judge if the assumptions of this model are correct. But since it is not a very complex (in time and memory), it might give us a different baseline to compare other models too (it may even outperform them!)."
   ]
  },
  {
   "cell_type": "code",
   "execution_count": 11,
   "metadata": {
    "collapsed": false
   },
   "outputs": [
    {
     "name": "stdout",
     "output_type": "stream",
     "text": [
      "Training GaussianNB...\n",
      "Done!\n",
      "Training time (secs): 0.006\n",
      "------------------------------------------\n",
      "Training set size: 100\n",
      "Training GaussianNB...\n",
      "Done!\n",
      "Training time (secs): 0.001\n",
      "Predicting labels using GaussianNB...\n",
      "Done!\n",
      "Prediction time (secs): 0.000\n",
      "F1 score for training set: 0.866242038217\n",
      "Predicting labels using GaussianNB...\n",
      "Done!\n",
      "Prediction time (secs): 0.001\n",
      "F1 score for test set: 0.739130434783\n",
      "------------------------------------------\n",
      "Training set size: 200\n",
      "Training GaussianNB...\n",
      "Done!\n",
      "Training time (secs): 0.003\n",
      "Predicting labels using GaussianNB...\n",
      "Done!\n",
      "Prediction time (secs): 0.002\n",
      "F1 score for training set: 0.825174825175\n",
      "Predicting labels using GaussianNB...\n",
      "Done!\n",
      "Prediction time (secs): 0.001\n",
      "F1 score for test set: 0.768115942029\n",
      "------------------------------------------\n",
      "Training set size: 300\n",
      "Training GaussianNB...\n",
      "Done!\n",
      "Training time (secs): 0.003\n",
      "Predicting labels using GaussianNB...\n",
      "Done!\n",
      "Prediction time (secs): 0.001\n",
      "F1 score for training set: 0.814988290398\n",
      "Predicting labels using GaussianNB...\n",
      "Done!\n",
      "Prediction time (secs): 0.001\n",
      "F1 score for test set: 0.721804511278\n"
     ]
    }
   ],
   "source": [
    "# TODO: Train and predict using two other models\n",
    "from sklearn import naive_bayes\n",
    "clf2 = naive_bayes.GaussianNB()\n",
    "train_classifier(clf2, X_train, y_train)\n",
    "train_predict(clf2, X_all, y_all, train_size, test_size)"
   ]
  },
  {
   "cell_type": "markdown",
   "metadata": {},
   "source": [
    "### Model 3: K-Nearest Neighbors\n",
    "\n",
    "**Pros**: The K-Nearest Neighbors (KNN) method is also very simple and robust. It has the advantage of being a lazy method so when we train the model with the three different training set sizes, it does so instantly. Another one of its advantages is the fairly intuitive K parameter, so when optimizing it (via CV or some other method) we can readily asses whether the result makes some sense or not.\n",
    "\n",
    "**Cons**: In KNN we rely on some metric to define distance. This function can be the standard Euclidean distance or some other metric. Domaine knowledge can help make an educated guess as to which \"distance\" function to use, but otherwise, the use of the standard Euclidean distance can seriously limit the model predictions. Another problem we may encounter with KNN is that it is very expensive in space since we need to store all our training points. \n",
    "\n",
    "**Why?**: In this particular case we are do not run into storage problems, since the dataset is relatively small. In addition since we want to train the model with three different training set sizes, KNN is the quickest way since we don't actually have to train the model and we can add more points to the training set without worrying about having to retrain it."
   ]
  },
  {
   "cell_type": "code",
   "execution_count": 16,
   "metadata": {
    "collapsed": false
   },
   "outputs": [
    {
     "name": "stdout",
     "output_type": "stream",
     "text": [
      "Training KNeighborsClassifier...\n",
      "Done!\n",
      "Training time (secs): 0.002\n",
      "------------------------------------------\n",
      "Training set size: 100\n",
      "Training KNeighborsClassifier...\n",
      "Done!\n",
      "Training time (secs): 0.001\n",
      "Predicting labels using KNeighborsClassifier...\n",
      "Done!\n",
      "Prediction time (secs): 0.002\n",
      "F1 score for training set: 0.883116883117\n",
      "Predicting labels using KNeighborsClassifier...\n",
      "Done!\n",
      "Prediction time (secs): 0.001\n",
      "F1 score for test set: 0.789473684211\n",
      "------------------------------------------\n",
      "Training set size: 200\n",
      "Training KNeighborsClassifier...\n",
      "Done!\n",
      "Training time (secs): 0.001\n",
      "Predicting labels using KNeighborsClassifier...\n",
      "Done!\n",
      "Prediction time (secs): 0.005\n",
      "F1 score for training set: 0.85\n",
      "Predicting labels using KNeighborsClassifier...\n",
      "Done!\n",
      "Prediction time (secs): 0.002\n",
      "F1 score for test set: 0.785714285714\n",
      "------------------------------------------\n",
      "Training set size: 300\n",
      "Training KNeighborsClassifier...\n",
      "Done!\n",
      "Training time (secs): 0.002\n",
      "Predicting labels using KNeighborsClassifier...\n",
      "Done!\n",
      "Prediction time (secs): 0.010\n",
      "F1 score for training set: 0.860411899314\n",
      "Predicting labels using KNeighborsClassifier...\n",
      "Done!\n",
      "Prediction time (secs): 0.002\n",
      "F1 score for test set: 0.765957446809\n"
     ]
    }
   ],
   "source": [
    "# TODO: Train and predict using two other models\n",
    "from sklearn import neighbors\n",
    "clf3 = neighbors.KNeighborsClassifier()\n",
    "train_classifier(clf3, X_train, y_train)\n",
    "train_predict(clf3, X_all, y_all, train_size, test_size)"
   ]
  },
  {
   "cell_type": "markdown",
   "metadata": {},
   "source": [
    "**Recap**: We present a recap table of the training and predicting times as well as the F1 score for the test set for the three different training set sizes:"
   ]
  },
  {
   "cell_type": "code",
   "execution_count": 17,
   "metadata": {
    "collapsed": false
   },
   "outputs": [
    {
     "name": "stdout",
     "output_type": "stream",
     "text": [
      "           SVC 100   SVC 200   SVC 300   GNB 100   GNB 200   GNB 300  \\\n",
      "Train t   0.002000  0.004000  0.008000  0.001000  0.001000  0.001000   \n",
      "Pred t    0.002000  0.002000  0.001000  0.001000  0.000000  0.000000   \n",
      "Train F1  0.909091  0.895833  0.872807  0.866242  0.825175  0.814988   \n",
      "Test F1   0.787097  0.772414  0.786667  0.739130  0.768116  0.721805   \n",
      "\n",
      "           KNN 100   KNN 200   KNN 300  \n",
      "Train t   0.002000  0.001000  0.001000  \n",
      "Pred t    0.004000  0.001000  0.002000  \n",
      "Train F1  0.883117  0.850000  0.860412  \n",
      "Test F1   0.789474  0.785714  0.765957  \n"
     ]
    }
   ],
   "source": [
    "data = np.array([[0.002,0.004,0.008,0.001,0.001,0.001,0.002,0.001,0.001],\n",
    "                 [0.002,0.002,0.001,0.001,0.000,0.000,0.004,0.001,0.002],\n",
    "                 [0.909090909091,0.895833333333,0.872807017544,\n",
    "                  0.866242038217,0.825174825175,0.814988290398,\n",
    "                  0.883116883117,0.85,0.860411899314],\n",
    "                 [0.787096774194,0.772413793103,0.786666666667,\n",
    "                  0.739130434783,0.768115942029,0.721804511278,\n",
    "                  0.789473684211,0.785714285714,0.765957446809]])\n",
    "method = [\"SVC 100\", \"SVC 200\", \"SVC 300\", \"GNB 100\", \"GNB 200\", \"GNB 300\", \"KNN 100\", \"KNN 200\", \"KNN 300\"]\n",
    "feats = [\"Train t\", \"Pred t\", \"Train F1\",\"Test F1\"]\n",
    "\n",
    "print pd.DataFrame(data, feats, method)"
   ]
  },
  {
   "cell_type": "markdown",
   "metadata": {},
   "source": [
    "## 5. Choosing the Best Model\n",
    "\n",
    "- Based on the experiments you performed earlier, in 1-2 paragraphs explain to the board of supervisors what single model you chose as the best model. Which model is generally the most appropriate based on the available data, limited resources, cost, and performance?\n",
    "- In 1-2 paragraphs explain to the board of supervisors in layman's terms how the final model chosen is supposed to work (for example if you chose a Decision Tree or Support Vector Machine, how does it make a prediction).\n",
    "- Fine-tune the model. Use Gridsearch with at least one important parameter tuned and with at least 3 settings. Use the entire training set for this.\n",
    "- What is the model's final F<sub>1</sub> score?"
   ]
  },
  {
   "cell_type": "markdown",
   "metadata": {},
   "source": [
    "From the table above we can already draw a few conclusions and confirm some of our assumptions. First, we notice the expected and general trend that as the training set size increases, the error in the training set increases (the F1 score decreases). This is because with fewer points in the training set, the model tends to overfit it more, making the train error small but not generalizing well. The training and predicting times also agree with our intuition. The most expensive model is the SVC, as can be seen from its testing time. Both GNB and KNN have very small training times but for very different reasons: for GNB it steams from the model simplicity and assumptions, whereas for KNN it is because KNN is lazy. \n",
    "\n",
    "The results that are bit more difficult to interpret are the Test F1 scores. Let's look at the three models one by one. Starting with the **SVC** we see that actually we obtain the highest test F1 score when there are only 100 points in the training set. However, as it drops more than a point when increasing from 100 test points to 200, the trend is reversed when going from 200 to 300, increasing to almost the same level as before. \n",
    "\n",
    "For **GNB** we see the expected increase in test F1 score as we increase the number of training points, but then it drops sharply when n=300.\n",
    "\n",
    "Finally, for **KNN** we also see the best score when n=100, and it goes down as the number of points goes up.\n",
    "\n",
    "I believe these are inconsistencies due to limited size of our dataset and the unbalanced nature of the labels (67% pass). We have a very limited dataset, under 400 ovservations for 44 features. In addition to that, we don't have a balanced number of \"pass\" and \"fail\". This can be a problem since, specially when the training set has 100 points and we have kept the test set fixed at 95 points, because of the random sampling we may find a case when most \"fail\" cases are lost, not belonging to the test nor the training set. We have verified this by changing the random seed in our train-test split. Changing the random seed alters dramatically the results. \n",
    "\n",
    "Because of the high number of features and the somehow limited number of points in our training set, and because its \"out of the box\" performance is pretty good, we will concentrate in improving the SVC classifier. \n",
    "\n",
    "### Support Vector Machines:\n",
    "\n",
    "In order to understand SVM let's start with a simple example: say you want to predict whether a particular athlete is a basketball or a baseball player purely based on height. You are giving a list of 500 basketball players' heights and another list of 500 baseball players' heights. When looking at these data you find that **all** baseball players are below 1,75m and **all** basketball players are above 1,95m. Now, in order to make our predictions we have many many options of where to set the cutoff: we could say, for example, that all athletes taller than 1,75m are basketball players. Our we could say that all athletes above 1,94m are basketball players. Where do we draw the line?\n",
    "\n",
    "In order to answer this question we have to look at the concept of margin. We'll continue with our example. Say that we draw the line at 1,80m. What is the margin? The \"distance\" from the tallest baseball player (1,75m) to our cutoff height is 5cm, and from the cutoff to the shortest basketball player (1,95m) is 15cm. SVM tries to **maximize** this margin, that is, it tries to find the cutoff height such that the distance to the different classes is maximum. We can see that in our case that would mean setting the mark at 1,85m since then the distance to the tallest baseball player and to the shortest basketball player is maximum (10cm). What is really nice about this method is that, for this case, only the talles baseball player and the shortest basketball player are needed. We do not need the rest of the data, we can maximize the margin using only these two data points. We call these datapoints the **support vectors**.\n",
    "\n",
    "The example we looked at was a simple one-dimensional problem, but we can easily see how it generalizes to higher dimensions. If insted of looking at just height we looked at height and weight, we would have to draw our data points in an x-y graph, and we would have a line dividing the two different classes. If we added a third dimension we would have a plane split the classes and in higher dimensions we would have hyperplanes.\n",
    "\n",
    "We will use Sklearn's grid_search to estimate two parameters:\n",
    "* The kernel type: linear or RBF.\n",
    "* The C parameter which specifies how much to penalise misclassifications. A low C value will try to make the surface smooth, whereas a high C value tries to correctly classify as many training points as possible.\n",
    "* The class_weight parameter. By default, the model gives every point an equal weight of 1. By setting it to \"balanced\", \n",
    "* The gamma parameter. In RBF, the measure of similarity between two points takes the form $d(x,x') = exp \\left(-\\dfrac{||x-x'||^{2}}{2\\sigma^{2}}\\right)$ which can also be expressed as $d(x,x') = exp(-\\gamma ||x-x'||^{2})$ by setting $\\gamma = \\dfrac{1}{2\\sigma^2}$. We see that it measures how \"fast\" the similarity drops from 1 when $x=x'$ to 0.\n",
    "\n",
    "In our grid_search we will go beyond the standard three-fold CV and try a five-fold cross-validation. We will also use the F1 score as the scoring function. However we cannot use it as is, since it cannot identify the positive label and we cannot pass any arguments. So we'll make a scorer using make_scorer"
   ]
  },
  {
   "cell_type": "code",
   "execution_count": 36,
   "metadata": {
    "collapsed": false
   },
   "outputs": [
    {
     "name": "stdout",
     "output_type": "stream",
     "text": [
      "{'kernel': 'rbf', 'C': 2, 'gamma': 0.0081113083078968723, 'class_weight': None}\n"
     ]
    }
   ],
   "source": [
    "# TODO: Fine-tune your model and report the best F1 score\n",
    "from sklearn import grid_search\n",
    "from sklearn import metrics\n",
    "X_train, X_test, y_train, y_test = cross_validation.train_test_split(X_all, y_all, \n",
    "                                                                     train_size=num_train, random_state=23)\n",
    "parameters = {'kernel':('linear','rbf'), \n",
    "              'C':np.arange(1,5,1), \n",
    "              'class_weight':(None,'balanced'),\n",
    "              'gamma':np.logspace(-3,2,num=12)\n",
    "}\n",
    "\n",
    "custom_f1_scorer = metrics.make_scorer(f1_score, pos_label='yes')\n",
    "\n",
    "clf4 = grid_search.GridSearchCV(svm.SVC(),parameters,cv=5,scoring=custom_f1_scorer)\n",
    "clf4.fit(X_train,y_train)\n",
    "print clf4.best_params_"
   ]
  },
  {
   "cell_type": "code",
   "execution_count": 37,
   "metadata": {
    "collapsed": false
   },
   "outputs": [
    {
     "name": "stdout",
     "output_type": "stream",
     "text": [
      "Test score without grid search: 0.805369127517\n",
      "Test score with grid search: 0.813333333333\n"
     ]
    }
   ],
   "source": [
    "y_pred = clf4.predict(X_test)\n",
    "print \"Test score without grid search: {}\".format(f1_score(y_test, svm.SVC().fit(X_train, y_train).predict(X_test), pos_label='yes'))\n",
    "print \"Test score with grid search: {}\".format(f1_score(y_test, clf4.predict(X_test), pos_label='yes'))"
   ]
  },
  {
   "cell_type": "markdown",
   "metadata": {
    "collapsed": true
   },
   "source": [
    "We see that the test score improves after using grid search to find the optimal value of the parameters. However, once again, due to the relatively small amount of data this dataset consists of, the random seed can have a serious impact in the test score. Depending on the random seed we use we might get lucky with our testing set and see more or less (or even negative! set, for example, the random_state=18) improvement with the grid search."
   ]
  },
  {
   "cell_type": "markdown",
   "metadata": {},
   "source": [
    "---------------------------------------"
   ]
  },
  {
   "cell_type": "markdown",
   "metadata": {},
   "source": [
    "Thanks to Udacity's review, we see that there is an alternative train-test split we can use in the cases where we have more events belonging to one class than the other. Here we will quickly explore how it alters the last results above"
   ]
  },
  {
   "cell_type": "code",
   "execution_count": 48,
   "metadata": {
    "collapsed": false
   },
   "outputs": [
    {
     "name": "stdout",
     "output_type": "stream",
     "text": [
      "{'kernel': 'rbf', 'C': 4, 'gamma': 0.0028480358684358021, 'class_weight': None}\n"
     ]
    }
   ],
   "source": [
    "from sklearn.cross_validation import StratifiedShuffleSplit\n",
    "strat_shuffle_split = StratifiedShuffleSplit(y_all, test_size=0.3, random_state=2)\n",
    "for train_index, test_index in strat_shuffle_split:\n",
    "    X_train, X_test = X_all.iloc[train_index], X_all.iloc[test_index]\n",
    "    y_train, y_test = y_all[train_index], y_all[test_index]\n",
    "\n",
    "clf4.fit(X_train,y_train)\n",
    "print clf4.best_params_"
   ]
  },
  {
   "cell_type": "code",
   "execution_count": 49,
   "metadata": {
    "collapsed": false
   },
   "outputs": [
    {
     "name": "stdout",
     "output_type": "stream",
     "text": [
      "Test score without grid search: 0.806282722513\n",
      "Test score with grid search: 0.8125\n"
     ]
    }
   ],
   "source": [
    "y_pred = clf4.predict(X_test)\n",
    "print \"Test score without grid search: {}\".format(f1_score(y_test, svm.SVC().fit(X_train, y_train).predict(X_test), pos_label='yes'))\n",
    "print \"Test score with grid search: {}\".format(f1_score(y_test, clf4.predict(X_test), pos_label='yes'))"
   ]
  },
  {
   "cell_type": "markdown",
   "metadata": {},
   "source": [
    "There definitely is a difference between using a simple train-test-split and a stratified shuffle split. The values are more uniform, and don't vary as wildely when using a different random seed. However there are still a few cases (random seeds 10 and 43 for example) where we get worse performance when using grid search than without, and the overall score is not very good. We conclude that although a stratified shuffle split helps in achieving more reliable results, our dataset may be a little too small, since we still get different results based on the random seed used."
   ]
  }
 ],
 "metadata": {
  "kernelspec": {
   "display_name": "Python 2",
   "language": "python",
   "name": "python2"
  },
  "language_info": {
   "codemirror_mode": {
    "name": "ipython",
    "version": 2
   },
   "file_extension": ".py",
   "mimetype": "text/x-python",
   "name": "python",
   "nbconvert_exporter": "python",
   "pygments_lexer": "ipython2",
   "version": "2.7.11"
  }
 },
 "nbformat": 4,
 "nbformat_minor": 0
}
